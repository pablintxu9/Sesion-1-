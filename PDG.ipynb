{
 "cells": [
  {
   "cell_type": "code",
   "execution_count": null,
   "id": "00d7bde4",
   "metadata": {
    "vscode": {
     "languageId": "plaintext"
    }
   },
   "outputs": [],
   "source": [
    "# Asignar variables de diferentes tipos\n",
    "entero = 10\n",
    "decimal = 3.14\n",
    "texto = \"Hola\"\n",
    "booleano = True\n",
    "\n",
    "# Imprimir el tipo y el valor de cada variable\n",
    "print(f\"entero: valor={entero}, tipo={type(entero)}\")\n",
    "print(f\"decimal: valor={decimal}, tipo={type(decimal)}\")\n",
    "print(f\"texto: valor={texto}, tipo={type(texto)}\")\n",
    "print(f\"booleano: valor={booleano}, tipo={type(booleano)}\")"
   ]
  }
 ],
 "metadata": {
  "language_info": {
   "name": "python"
  }
 },
 "nbformat": 4,
 "nbformat_minor": 5
}
